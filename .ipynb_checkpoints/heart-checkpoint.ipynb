{
 "cells": [
  {
   "cell_type": "markdown",
   "id": "d05e586d-732f-4084-9bfa-7dc4e252c673",
   "metadata": {},
   "source": [
    "import dependencies"
   ]
  },
  {
   "cell_type": "code",
   "execution_count": 9,
   "id": "da5184ea-a26c-46cd-b1d9-848636778cbc",
   "metadata": {},
   "outputs": [],
   "source": [
    "import numpy as np\n",
    "import pandas as pd\n",
    "from sklearn.model_selection import train_test_split\n",
    "from sklearn.linear_model import LogisticRegression\n",
    "from sklearn.metrics import accuracy_score\n",
    "from sklearn import metrics\n",
    "from sklearn.metrics import confusion_matrix\n",
    "from sklearn.metrics import classification_report\n",
    "from matplotlib import pyplot as plt\n",
    "\n",
    "from sklearn import metrics\n",
    "import matplotlib.pyplot as plt\n",
    "import seaborn as sns"
   ]
  },
  {
   "cell_type": "raw",
   "id": "23d49afb-d6a6-42c1-b655-01e589f129d8",
   "metadata": {},
   "source": [
    "# Dataset Label\n",
    "    age\n",
    "    sex\n",
    "    chest pain type (4 values)\n",
    "    resting blood pressure\n",
    "    serum cholestoral in mg/dl\n",
    "    fasting blood sugar > 120 mg/dl\n",
    "    resting electrocardiographic results (values 0,1,2)\n",
    "    maximum heart rate achieved\n",
    "    exercise induced angina\n",
    "    oldpeak = ST depression induced by exercise relative to rest\n",
    "    the slope of the peak exercise ST segment\n",
    "    number of major vessels (0-3) colored by flourosopy\n",
    "    thal: 0 = normal; 1 = fixed defect; 2 = reversable defect\n",
    "    The names and social security numbers of the patients were recently removed from the database, replaced with dummy values.\n"
   ]
  }
 ],
 "metadata": {
  "kernelspec": {
   "display_name": "Python 3 (ipykernel)",
   "language": "python",
   "name": "python3"
  },
  "language_info": {
   "codemirror_mode": {
    "name": "ipython",
    "version": 3
   },
   "file_extension": ".py",
   "mimetype": "text/x-python",
   "name": "python",
   "nbconvert_exporter": "python",
   "pygments_lexer": "ipython3",
   "version": "3.12.7"
  }
 },
 "nbformat": 4,
 "nbformat_minor": 5
}
