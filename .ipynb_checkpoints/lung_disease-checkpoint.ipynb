{
 "cells": [
  {
   "cell_type": "code",
   "execution_count": 2,
   "id": "440c41ad-e818-485c-a2b6-fb9106292d3f",
   "metadata": {},
   "outputs": [],
   "source": [
    "import pandas as pd\n",
    "import numpy as np\n",
    "import matplotlib.pyplot as plt\n",
    "from sklearn.preprocessing import StandardScaler, LabelEncoder, MinMaxScaler, OneHotEncoder\n",
    "from sklearn.impute import SimpleImputer\n",
    "import seaborn as sns\n",
    "from sklearn.model_selection import train_test_split\n"
   ]
  },
  {
   "cell_type": "code",
   "execution_count": 4,
   "id": "548a52ea-c12a-4fc5-bd73-961741ce95bd",
   "metadata": {},
   "outputs": [
    {
     "name": "stdout",
     "output_type": "stream",
     "text": [
      "  gender  age  smoking  yellow_fingers  anxiety  peer_pressure  \\\n",
      "0      M   69        1               2        2              1   \n",
      "1      M   74        2               1        1              1   \n",
      "2      F   59        1               1        1              2   \n",
      "3      M   63        2               2        2              1   \n",
      "4      F   63        1               2        1              1   \n",
      "\n",
      "   chronic disease  fatigue  allergy  wheezing  alcohol consuming  coughing  \\\n",
      "0                1        2        1         2                  2         2   \n",
      "1                2        2        2         1                  1         1   \n",
      "2                1        2        1         2                  1         2   \n",
      "3                1        1        1         1                  2         1   \n",
      "4                1        1        1         2                  1         2   \n",
      "\n",
      "   shortness of breath  swallowing difficulty  chest pain lung_cancer  \n",
      "0                    2                      2           2         YES  \n",
      "1                    2                      2           2         YES  \n",
      "2                    2                      1           2          NO  \n",
      "3                    1                      2           2          NO  \n",
      "4                    2                      1           1          NO  \n",
      "<class 'pandas.core.frame.DataFrame'>\n",
      "RangeIndex: 309 entries, 0 to 308\n",
      "Data columns (total 16 columns):\n",
      " #   Column                 Non-Null Count  Dtype \n",
      "---  ------                 --------------  ----- \n",
      " 0   gender                 309 non-null    object\n",
      " 1   age                    309 non-null    int64 \n",
      " 2   smoking                309 non-null    int64 \n",
      " 3   yellow_fingers         309 non-null    int64 \n",
      " 4   anxiety                309 non-null    int64 \n",
      " 5   peer_pressure          309 non-null    int64 \n",
      " 6   chronic disease        309 non-null    int64 \n",
      " 7   fatigue                309 non-null    int64 \n",
      " 8   allergy                309 non-null    int64 \n",
      " 9   wheezing               309 non-null    int64 \n",
      " 10  alcohol consuming      309 non-null    int64 \n",
      " 11  coughing               309 non-null    int64 \n",
      " 12  shortness of breath    309 non-null    int64 \n",
      " 13  swallowing difficulty  309 non-null    int64 \n",
      " 14  chest pain             309 non-null    int64 \n",
      " 15  lung_cancer            309 non-null    object\n",
      "dtypes: int64(14), object(2)\n",
      "memory usage: 38.8+ KB\n",
      "None\n",
      "              age     smoking  yellow_fingers     anxiety  peer_pressure  \\\n",
      "count  309.000000  309.000000      309.000000  309.000000     309.000000   \n",
      "mean    62.673139    1.563107        1.569579    1.498382       1.501618   \n",
      "std      8.210301    0.496806        0.495938    0.500808       0.500808   \n",
      "min     21.000000    1.000000        1.000000    1.000000       1.000000   \n",
      "25%     57.000000    1.000000        1.000000    1.000000       1.000000   \n",
      "50%     62.000000    2.000000        2.000000    1.000000       2.000000   \n",
      "75%     69.000000    2.000000        2.000000    2.000000       2.000000   \n",
      "max     87.000000    2.000000        2.000000    2.000000       2.000000   \n",
      "\n",
      "       chronic disease     fatigue     allergy    wheezing  alcohol consuming  \\\n",
      "count       309.000000  309.000000  309.000000  309.000000         309.000000   \n",
      "mean          1.504854    1.673139    1.556634    1.556634           1.556634   \n",
      "std           0.500787    0.469827    0.497588    0.497588           0.497588   \n",
      "min           1.000000    1.000000    1.000000    1.000000           1.000000   \n",
      "25%           1.000000    1.000000    1.000000    1.000000           1.000000   \n",
      "50%           2.000000    2.000000    2.000000    2.000000           2.000000   \n",
      "75%           2.000000    2.000000    2.000000    2.000000           2.000000   \n",
      "max           2.000000    2.000000    2.000000    2.000000           2.000000   \n",
      "\n",
      "         coughing  shortness of breath  swallowing difficulty  chest pain  \n",
      "count  309.000000           309.000000             309.000000  309.000000  \n",
      "mean     1.579288             1.640777               1.469256    1.556634  \n",
      "std      0.494474             0.480551               0.499863    0.497588  \n",
      "min      1.000000             1.000000               1.000000    1.000000  \n",
      "25%      1.000000             1.000000               1.000000    1.000000  \n",
      "50%      2.000000             2.000000               1.000000    2.000000  \n",
      "75%      2.000000             2.000000               2.000000    2.000000  \n",
      "max      2.000000             2.000000               2.000000    2.000000  \n"
     ]
    }
   ],
   "source": [
    "\n",
    "df = pd.read_csv('dataset/lung.csv')\n",
    "print(df.head())\n",
    "print(df.info())\n",
    "print(df.describe())"
   ]
  },
  {
   "cell_type": "code",
   "execution_count": null,
   "id": "78cac08d-6f8c-4aab-9b89-e5493a911827",
   "metadata": {},
   "outputs": [],
   "source": [
    "#Understand the data types and missing values\n",
    "print(df.dtypes)\n",
    "missing_value = df.isnull().sum()\n",
    "print('Missing values:')\n",
    "print(missing_value)\n",
    "\n"
   ]
  },
  {
   "cell_type": "code",
   "execution_count": null,
   "id": "c694a43c-f313-449b-b640-584672f86a9e",
   "metadata": {},
   "outputs": [],
   "source": [
    "#using visualization for showing missing values\n",
    "import seaborn as sns\n",
    "import matplotlib.pyplot as plt\n",
    "\n",
    "sns.heatmap(df.isnull(), cbar=False)\n",
    "plt.show()\n"
   ]
  },
  {
   "cell_type": "code",
   "execution_count": null,
   "id": "f749a8dc-87ce-4a6a-9387-d6144888082e",
   "metadata": {},
   "outputs": [],
   "source": [
    "# Data preprocessing\n",
    "#Handle Missing Data\n",
    "simple_imputer = SimpleImputer(strategy = 'mean')\n",
    "missing_col = ['AGE']\n",
    "df[missing_col] = simple_imputer.fit_transform(df[missing_col])\n",
    "\n",
    "simple_imputer = SimpleImputer(strategy = 'most_frequent')\n",
    "missing_col = ['GENDER','YELLOW_FINGERS','ANXIETY','WHEEZING','ALCOHOL CONSUMING','PEER_PRESSURE','FATIGUE','ALLERGY','COUGHING','SHORTNESS OF BREATH','CHEST PAIN','SWALLOWING DIFFICULTY']\n",
    "df[missing_col] = simple_imputer.fit_transform(df[missing_col])\n",
    "\n",
    "print(\"Missing Values Now:\")\n",
    "print(df.isnull().sum())\n",
    "\n",
    "sns.heatmap(df.isnull(), cbar=False)\n",
    "plt.show()"
   ]
  },
  {
   "cell_type": "code",
   "execution_count": null,
   "id": "65648579-c967-4e83-93d5-302544f60f4b",
   "metadata": {},
   "outputs": [],
   "source": [
    "#Encoding Categorical data\n",
    "label_Encoder = LabelEncoder()\n",
    "\n",
    "cols_to_encode = ['GENDER','SMOKING','YELLOW_FINGERS','ANXIETY','PEER_PRESSURE','CHRONIC DISEASE','FATIGUE','ALLERGY','WHEEZING','ALCOHOL CONSUMING','COUGHING','SHORTNESS OF BREATH','SWALLOWING DIFFICULTY','CHEST PAIN','LUNG_CANCER']\n",
    "for col in cols_to_encode:\n",
    "    df[col] = label_Encoder.fit_transform(df[col])\n",
    "\n",
    "df"
   ]
  },
  {
   "cell_type": "code",
   "execution_count": null,
   "id": "26e18d29-20ad-4e55-b212-1485aa6ea534",
   "metadata": {},
   "outputs": [],
   "source": [
    "import pandas as pd\n",
    "\n",
    "#Calculate the lower and upper bounds\n",
    "Q1 = df['AGE'].quantile(0.25)\n",
    "Q3 = df['AGE'].quantile(0.75)\n",
    "IQR = Q3 - Q1\n",
    "\n",
    "#Calculate the lower and \n",
    "lower_bound = Q1 - 1.5 * IQR\n",
    "upper_bound = Q3 + 1.5 * IQR\n",
    "\n",
    "print(lower_bound)\n",
    "print(upper_bound)\n",
    "#Identifying outliers\n",
    "outliers = df[(df['AGE'] < lower_bound) | (df['AGE'] > upper_bound)]\n",
    "\n",
    "print(\"Outliers detected\")\n",
    "print(outliers)"
   ]
  },
  {
   "cell_type": "code",
   "execution_count": null,
   "id": "77671290-d5b1-440e-a7a0-a63649d117c5",
   "metadata": {},
   "outputs": [],
   "source": [
    "# Plotting the outliers\n",
    "plt.figure(figsize=(8, 6))\n",
    "sns.boxplot(x=df['AGE'])\n",
    "plt.title(\"Boxplot for Age before removing outliers\")\n",
    "plt.show()"
   ]
  },
  {
   "cell_type": "code",
   "execution_count": null,
   "id": "ad0143ba-624f-4453-8ed2-eb575cee0562",
   "metadata": {},
   "outputs": [],
   "source": [
    "# Cap the values at the lower and upper bounds\n",
    "df['AGE'] = df['AGE'].clip(lower=lower_bound, upper=upper_bound)\n",
    "\n",
    "# Check the result\n",
    "print(df['AGE'].describe())\n"
   ]
  },
  {
   "cell_type": "code",
   "execution_count": null,
   "id": "8aa46148-c7b2-4abd-a6b7-8092de1044e2",
   "metadata": {},
   "outputs": [],
   "source": [
    "# Create a boxplot for 'Age' column\n",
    "plt.figure(figsize=(8, 6))\n",
    "sns.boxplot(x=df['AGE'])\n",
    "plt.title(\"Boxplot for Age after removing outlier\")\n",
    "plt.show()\n"
   ]
  },
  {
   "cell_type": "code",
   "execution_count": null,
   "id": "21110b32-88ba-483b-9b90-da8cae7959fd",
   "metadata": {},
   "outputs": [],
   "source": [
    "#Feature Scaling\n",
    "FeatureScal_col = ['AGE']\n",
    "Minmax = MinMaxScaler()\n",
    "df[FeatureScal_col] = Minmax.fit_transform(df[FeatureScal_col])\n",
    "print(\"Normalised Data:\")\n",
    "print(df[FeatureScal_col].head())\n",
    "df"
   ]
  },
  {
   "cell_type": "code",
   "execution_count": null,
   "id": "371531f2-ea44-4a62-a358-96198f0d8d28",
   "metadata": {},
   "outputs": [],
   "source": [
    "for col in df.columns:\n",
    "    print(f\"Column: {col}\")\n",
    "    print(df[col].unique())\n",
    "    print()"
   ]
  },
  {
   "cell_type": "code",
   "execution_count": null,
   "id": "580dd000-3494-4734-95e8-49ff2c01637a",
   "metadata": {},
   "outputs": [],
   "source": [
    "#Splitting to train and test\n",
    "\n",
    "X = df.iloc[:,:-1]\n",
    "y = df.iloc[:, -1]\n",
    "\n",
    "X_train, X_test, y_train, y_test = train_test_split(X, y, test_size=0.2, random_state=42)\n",
    "\n",
    "print(f\"Training set size: {X_train.shape}\")\n",
    "print(f\"Test set size: {X_test.shape}\")"
   ]
  },
  {
   "cell_type": "code",
   "execution_count": null,
   "id": "ec5cd2e5-31bb-4fa2-a8d8-193f69385165",
   "metadata": {},
   "outputs": [],
   "source": [
    "df.to_csv('lungCancer_data_preprocessed.csv', index=False)\n"
   ]
  },
  {
   "cell_type": "code",
   "execution_count": null,
   "id": "ca13e75d-22f6-4c22-9ecb-eb1e54260530",
   "metadata": {},
   "outputs": [],
   "source": [
    "#five number summary\n",
    "\n",
    "column_name ='AGE'\n",
    "summary = {\n",
    "    'Minimum' : df[column_name].min(),\n",
    "    'Q1' : df[column_name].quantile(0.25),\n",
    "    'Median' : df[column_name].median(),\n",
    "    'Q3' : df[column_name].quantile(0.75),\n",
    "    'Maximum' : df[column_name].max()\n",
    "}\n",
    "\n",
    "#printing out the result\n",
    "print(f\"Five-number Summary for '{column_name}':\")\n",
    "for key, value in summary.items():\n",
    "    print(f\"{key}:{value}\")\n"
   ]
  },
  {
   "cell_type": "code",
   "execution_count": null,
   "id": "dfb0b30f-b5db-4930-80fc-605046022d46",
   "metadata": {},
   "outputs": [],
   "source": [
    "#boxplot for five number summary\n",
    "import seaborn as sns\n",
    "\n",
    "#create a boxplot for the 'Age' column\n",
    "plt.figure(figsize=(8,6))\n",
    "sns.boxplot(x=df['AGE'], color = 'lightblue')\n",
    "\n",
    "#set tje tile and labels\n",
    "plt.title(f\"boxplot for {column_name}\")\n",
    "plt.xlabel(column_name)\n",
    "\n",
    "#show the plot\n",
    "plt.show()\n"
   ]
  },
  {
   "cell_type": "code",
   "execution_count": null,
   "id": "9f7d002b-a8ff-4525-8e69-427c8b126728",
   "metadata": {},
   "outputs": [],
   "source": [
    "#training the model using Random Forest\n",
    "\n",
    "from sklearn.ensemble import RandomForestClassifier\n",
    "from sklearn.metrics import accuracy_score, confusion_matrix, precision_score,recall_score, ConfusionMatrixDisplay\n",
    "from sklearn.model_selection import RandomizedSearchCV\n",
    "from scipy.stats import randint\n",
    "\n",
    "# Tree Visualization\n",
    "from sklearn.tree import export_graphviz\n",
    "from IPython.display import Image\n"
   ]
  },
  {
   "cell_type": "code",
   "execution_count": null,
   "id": "8cd80fc3-a2fb-4bd6-ade8-fd3ba4d3c4e1",
   "metadata": {},
   "outputs": [],
   "source": [
    "rf = RandomForestClassifier()\n",
    "rf.fit(X_train, y_train)\n",
    "y_pred = rf.predict(X_test)\n",
    "accuracy = accuracy_score(y_test, y_pred)\n",
    "print(\"Accuracy:\", accuracy)\n"
   ]
  },
  {
   "cell_type": "code",
   "execution_count": null,
   "id": "93ec13c9-3eb6-4ea4-9e6e-cd7fee4f92c0",
   "metadata": {},
   "outputs": [],
   "source": [
    "#hyperparamter tuning\n",
    "param_dist = {'n_estimators' : randint(50,500),\n",
    "              'max_depth': randint(1,20)}\n",
    "\n",
    "#create a random forest classifier\n",
    "rf = RandomForestClassifier()\n",
    "\n",
    "rand_search = RandomizedSearchCV(rf, \n",
    "                                 param_distributions = param_dist,\n",
    "                                 n_iter = 5,\n",
    "                                 cv = 5)\n",
    "#Fit the random search object to the data\n",
    "rand_search.fit(X_train, y_train)"
   ]
  },
  {
   "cell_type": "code",
   "execution_count": null,
   "id": "fb13b009-b765-449e-8e7f-b294f86eec84",
   "metadata": {},
   "outputs": [],
   "source": [
    "#Create a variable for the best model\n",
    "best_rf = rand_search.best_estimator_\n",
    "\n",
    "#print the best hyperparameters\n",
    "print('best hyperparameters:', rand_search.best_params_)"
   ]
  },
  {
   "cell_type": "code",
   "execution_count": null,
   "id": "f7571389-cbe6-4451-8f19-ebe2f2ca098f",
   "metadata": {},
   "outputs": [],
   "source": [
    "#Generate prediction with the best mode\n",
    "y_pred = best_rf.predict(X_test)\n",
    "\n",
    "#Create the confusion matrix\n",
    "cm = confusion_matrix(y_test, y_pred)\n",
    "ConfusionMatrixDisplay(confusion_matrix=cm).plot();"
   ]
  },
  {
   "cell_type": "code",
   "execution_count": null,
   "id": "2385e3fe-c0f7-4dd1-a85a-92239e743fdf",
   "metadata": {},
   "outputs": [],
   "source": [
    "import pickle\n",
    "filename = 'model/lung_cancer_model.sav'\n",
    "pickle.dump(best_rf, open(filename, 'wb'))"
   ]
  },
  {
   "cell_type": "code",
   "execution_count": null,
   "id": "c5de45c9-28a0-4a2f-a477-69ece5141065",
   "metadata": {},
   "outputs": [],
   "source": [
    "df.to_csv('data_preprocessed/lung.csv',index=False)"
   ]
  },
  {
   "cell_type": "code",
   "execution_count": null,
   "id": "617df644-a381-4e8d-adad-3e3f6958dc36",
   "metadata": {},
   "outputs": [],
   "source": []
  }
 ],
 "metadata": {
  "kernelspec": {
   "display_name": "Python 3 (ipykernel)",
   "language": "python",
   "name": "python3"
  },
  "language_info": {
   "codemirror_mode": {
    "name": "ipython",
    "version": 3
   },
   "file_extension": ".py",
   "mimetype": "text/x-python",
   "name": "python",
   "nbconvert_exporter": "python",
   "pygments_lexer": "ipython3",
   "version": "3.12.7"
  }
 },
 "nbformat": 4,
 "nbformat_minor": 5
}
